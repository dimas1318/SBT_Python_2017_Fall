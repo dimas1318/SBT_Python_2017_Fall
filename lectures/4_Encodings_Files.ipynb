{
 "cells": [
  {
   "cell_type": "markdown",
   "metadata": {},
   "source": [
    "## Кодировки в Python"
   ]
  },
  {
   "cell_type": "markdown",
   "metadata": {},
   "source": [
    "https://ru.wikipedia.org/wiki/Юникод"
   ]
  },
  {
   "cell_type": "markdown",
   "metadata": {},
   "source": [
    "https://ru.wikipedia.org/wiki/UTF-8"
   ]
  },
  {
   "cell_type": "markdown",
   "metadata": {},
   "source": [
    "str - последовательность байт\n",
    "\n",
    "unicode - последовательность симловов в кодировке Unicode"
   ]
  },
  {
   "cell_type": "markdown",
   "metadata": {},
   "source": [
    "По умолчанию строковые константы воспринимаются как str "
   ]
  },
  {
   "cell_type": "code",
   "execution_count": 1,
   "metadata": {
    "collapsed": false
   },
   "outputs": [
    {
     "data": {
      "text/plain": [
       "str"
      ]
     },
     "execution_count": 1,
     "metadata": {},
     "output_type": "execute_result"
    }
   ],
   "source": [
    "type('string')"
   ]
  },
  {
   "cell_type": "code",
   "execution_count": 2,
   "metadata": {
    "collapsed": false
   },
   "outputs": [
    {
     "data": {
      "text/plain": [
       "str"
      ]
     },
     "execution_count": 2,
     "metadata": {},
     "output_type": "execute_result"
    }
   ],
   "source": [
    "type('строчка')"
   ]
  },
  {
   "cell_type": "markdown",
   "metadata": {},
   "source": [
    "но можно явно указать, чтобы строковая константа воспринималась как unicode"
   ]
  },
  {
   "cell_type": "code",
   "execution_count": 3,
   "metadata": {
    "collapsed": false
   },
   "outputs": [
    {
     "data": {
      "text/plain": [
       "unicode"
      ]
     },
     "execution_count": 3,
     "metadata": {},
     "output_type": "execute_result"
    }
   ],
   "source": [
    "type(u'string')"
   ]
  },
  {
   "cell_type": "code",
   "execution_count": 4,
   "metadata": {
    "collapsed": false
   },
   "outputs": [
    {
     "data": {
      "text/plain": [
       "unicode"
      ]
     },
     "execution_count": 4,
     "metadata": {},
     "output_type": "execute_result"
    }
   ],
   "source": [
    "type(u'строчка')"
   ]
  },
  {
   "cell_type": "markdown",
   "metadata": {},
   "source": [
    "На латинских символах str и unicode совпадают, а на остальных нет"
   ]
  },
  {
   "cell_type": "code",
   "execution_count": 5,
   "metadata": {
    "collapsed": false
   },
   "outputs": [
    {
     "data": {
      "text/plain": [
       "True"
      ]
     },
     "execution_count": 5,
     "metadata": {},
     "output_type": "execute_result"
    }
   ],
   "source": [
    "'string' == u'string'"
   ]
  },
  {
   "cell_type": "markdown",
   "metadata": {},
   "source": [
    "На самом деле так происходит, потому что предварительно оба значения сначала приводятся к unicode. \n",
    "\n",
    "Так как utf-8 и unicode совпадают на латинских символах, то получаются равные строки\n",
    "\n",
    "Но если мы попробуем сделать такое с символами, которые не переводятся так просто в unicode (например кирилица), то мы получим предупреждение и результат False"
   ]
  },
  {
   "cell_type": "code",
   "execution_count": 6,
   "metadata": {
    "collapsed": false
   },
   "outputs": [
    {
     "name": "stderr",
     "output_type": "stream",
     "text": [
      "D:\\Programs\\Anaconda2\\envs\\py27\\lib\\site-packages\\ipykernel_launcher.py:1: UnicodeWarning: Unicode equal comparison failed to convert both arguments to Unicode - interpreting them as being unequal\n",
      "  \"\"\"Entry point for launching an IPython kernel.\n"
     ]
    },
    {
     "data": {
      "text/plain": [
       "False"
      ]
     },
     "execution_count": 6,
     "metadata": {},
     "output_type": "execute_result"
    }
   ],
   "source": [
    "'строчка' == u'строчка'"
   ]
  },
  {
   "cell_type": "markdown",
   "metadata": {},
   "source": [
    "для строк из латинских символах можно делать переход в Unicode посредством вызова unicode от строки"
   ]
  },
  {
   "cell_type": "code",
   "execution_count": 7,
   "metadata": {
    "collapsed": false
   },
   "outputs": [
    {
     "data": {
      "text/plain": [
       "u'string+-:,.1234567890='"
      ]
     },
     "execution_count": 7,
     "metadata": {},
     "output_type": "execute_result"
    }
   ],
   "source": [
    "unicode('string+-:,.1234567890=')"
   ]
  },
  {
   "cell_type": "markdown",
   "metadata": {},
   "source": [
    "Но для кирилицы это уже просто так не сработает, так как по умолчанию при декодировании используется кодировка ascii, а строчка по умолчанию записана в utf-8"
   ]
  },
  {
   "cell_type": "code",
   "execution_count": 8,
   "metadata": {
    "collapsed": false
   },
   "outputs": [
    {
     "ename": "UnicodeDecodeError",
     "evalue": "'ascii' codec can't decode byte 0xd1 in position 0: ordinal not in range(128)",
     "output_type": "error",
     "traceback": [
      "\u001b[1;31m---------------------------------------------------------------------------\u001b[0m",
      "\u001b[1;31mUnicodeDecodeError\u001b[0m                        Traceback (most recent call last)",
      "\u001b[1;32m<ipython-input-8-990f6d6c880e>\u001b[0m in \u001b[0;36m<module>\u001b[1;34m()\u001b[0m\n\u001b[1;32m----> 1\u001b[1;33m \u001b[0municode\u001b[0m\u001b[1;33m(\u001b[0m\u001b[1;34m'строчка'\u001b[0m\u001b[1;33m)\u001b[0m\u001b[1;33m\u001b[0m\u001b[0m\n\u001b[0m",
      "\u001b[1;31mUnicodeDecodeError\u001b[0m: 'ascii' codec can't decode byte 0xd1 in position 0: ordinal not in range(128)"
     ]
    }
   ],
   "source": [
    "unicode('строчка')"
   ]
  },
  {
   "cell_type": "markdown",
   "metadata": {},
   "source": [
    "Но есть параметр encoding, который поможет в данной ситуации"
   ]
  },
  {
   "cell_type": "code",
   "execution_count": 9,
   "metadata": {
    "collapsed": false
   },
   "outputs": [
    {
     "data": {
      "text/plain": [
       "u'\\u0441\\u0442\\u0440\\u043e\\u0447\\u043a\\u0430'"
      ]
     },
     "execution_count": 9,
     "metadata": {},
     "output_type": "execute_result"
    }
   ],
   "source": [
    "unicode('строчка', encoding='utf-8')"
   ]
  },
  {
   "cell_type": "code",
   "execution_count": 10,
   "metadata": {
    "collapsed": false
   },
   "outputs": [
    {
     "name": "stdout",
     "output_type": "stream",
     "text": [
      "строчка\n"
     ]
    }
   ],
   "source": [
    "print unicode('строчка', encoding='utf-8')"
   ]
  },
  {
   "cell_type": "markdown",
   "metadata": {},
   "source": [
    "Похожая ситуация с str"
   ]
  },
  {
   "cell_type": "code",
   "execution_count": 11,
   "metadata": {
    "collapsed": false
   },
   "outputs": [
    {
     "data": {
      "text/plain": [
       "'string'"
      ]
     },
     "execution_count": 11,
     "metadata": {},
     "output_type": "execute_result"
    }
   ],
   "source": [
    "str(u'string')"
   ]
  },
  {
   "cell_type": "code",
   "execution_count": 12,
   "metadata": {
    "collapsed": false
   },
   "outputs": [
    {
     "ename": "UnicodeEncodeError",
     "evalue": "'ascii' codec can't encode characters in position 0-6: ordinal not in range(128)",
     "output_type": "error",
     "traceback": [
      "\u001b[1;31m---------------------------------------------------------------------------\u001b[0m",
      "\u001b[1;31mUnicodeEncodeError\u001b[0m                        Traceback (most recent call last)",
      "\u001b[1;32m<ipython-input-12-d3cd88155e5a>\u001b[0m in \u001b[0;36m<module>\u001b[1;34m()\u001b[0m\n\u001b[1;32m----> 1\u001b[1;33m \u001b[0mstr\u001b[0m\u001b[1;33m(\u001b[0m\u001b[1;34mu'строчка'\u001b[0m\u001b[1;33m)\u001b[0m\u001b[1;33m\u001b[0m\u001b[0m\n\u001b[0m",
      "\u001b[1;31mUnicodeEncodeError\u001b[0m: 'ascii' codec can't encode characters in position 0-6: ordinal not in range(128)"
     ]
    }
   ],
   "source": [
    "str(u'строчка')"
   ]
  },
  {
   "cell_type": "markdown",
   "metadata": {},
   "source": [
    "По умолчанию при выводе str используется кодировка ASCII, но в ней нет кирилицы"
   ]
  },
  {
   "cell_type": "markdown",
   "metadata": {},
   "source": [
    "параметра encoding тут нет"
   ]
  },
  {
   "cell_type": "code",
   "execution_count": 13,
   "metadata": {
    "collapsed": false
   },
   "outputs": [
    {
     "ename": "TypeError",
     "evalue": "str() takes at most 1 argument (2 given)",
     "output_type": "error",
     "traceback": [
      "\u001b[1;31m---------------------------------------------------------------------------\u001b[0m",
      "\u001b[1;31mTypeError\u001b[0m                                 Traceback (most recent call last)",
      "\u001b[1;32m<ipython-input-13-74c8c9b1f743>\u001b[0m in \u001b[0;36m<module>\u001b[1;34m()\u001b[0m\n\u001b[1;32m----> 1\u001b[1;33m \u001b[0mstr\u001b[0m\u001b[1;33m(\u001b[0m\u001b[1;34mu'строчка'\u001b[0m\u001b[1;33m,\u001b[0m \u001b[0mencoding\u001b[0m\u001b[1;33m=\u001b[0m\u001b[1;34m'utf-8'\u001b[0m\u001b[1;33m)\u001b[0m\u001b[1;33m\u001b[0m\u001b[0m\n\u001b[0m",
      "\u001b[1;31mTypeError\u001b[0m: str() takes at most 1 argument (2 given)"
     ]
    }
   ],
   "source": [
    "str(u'строчка', encoding='utf-8')"
   ]
  },
  {
   "cell_type": "markdown",
   "metadata": {},
   "source": [
    "Для решения этой проблемы у строк есть методы decode и encode, которые позволяют переводить str в unicode и обратно\n",
    "\n",
    "По умолчанию в Python используется utf-8"
   ]
  },
  {
   "cell_type": "code",
   "execution_count": 14,
   "metadata": {
    "collapsed": false
   },
   "outputs": [
    {
     "name": "stdout",
     "output_type": "stream",
     "text": [
      "<type 'str'>\n",
      "<type 'unicode'>\n"
     ]
    }
   ],
   "source": [
    "print type('строчка')\n",
    "print type('строчка'.decode('utf-8'))"
   ]
  },
  {
   "cell_type": "markdown",
   "metadata": {},
   "source": [
    "существуют и другие кодировки"
   ]
  },
  {
   "cell_type": "code",
   "execution_count": 15,
   "metadata": {
    "collapsed": false
   },
   "outputs": [
    {
     "data": {
      "text/plain": [
       "u'\\u0421\\u0403\\u0421\\u201a\\u0421\\u0402\\u0420\\u0455\\u0421\\u2021\\u0420\\u0454\\u0420\\xb0'"
      ]
     },
     "execution_count": 15,
     "metadata": {},
     "output_type": "execute_result"
    }
   ],
   "source": [
    "'строчка'.decode('windows-1251')"
   ]
  },
  {
   "cell_type": "code",
   "execution_count": 16,
   "metadata": {
    "collapsed": false
   },
   "outputs": [
    {
     "name": "stdout",
     "output_type": "stream",
     "text": [
      "СЃС‚СЂРѕС‡РєР°\n"
     ]
    }
   ],
   "source": [
    "print 'строчка'.decode('windows-1251')"
   ]
  },
  {
   "cell_type": "code",
   "execution_count": 17,
   "metadata": {
    "collapsed": false
   },
   "outputs": [
    {
     "data": {
      "text/plain": [
       "'\\xd1\\x81\\xd1\\x82\\xd1\\x80\\xd0\\xbe\\xd1\\x87\\xd0\\xba\\xd0\\xb0'"
      ]
     },
     "execution_count": 17,
     "metadata": {},
     "output_type": "execute_result"
    }
   ],
   "source": [
    "'строчка'.decode('windows-1251').encode('windows-1251')"
   ]
  },
  {
   "cell_type": "code",
   "execution_count": 18,
   "metadata": {
    "collapsed": false
   },
   "outputs": [
    {
     "name": "stdout",
     "output_type": "stream",
     "text": [
      "строчка\n"
     ]
    }
   ],
   "source": [
    "print 'строчка'.decode('windows-1251').encode('windows-1251')"
   ]
  },
  {
   "cell_type": "code",
   "execution_count": 19,
   "metadata": {
    "collapsed": false
   },
   "outputs": [
    {
     "name": "stdout",
     "output_type": "stream",
     "text": [
      "СЃС‚СЂРѕС‡РєР°\n"
     ]
    }
   ],
   "source": [
    "print 'строчка'.decode('windows-1251').encode('utf-8')"
   ]
  },
  {
   "cell_type": "code",
   "execution_count": 20,
   "metadata": {
    "collapsed": false
   },
   "outputs": [
    {
     "name": "stdout",
     "output_type": "stream",
     "text": [
      "строчка\n"
     ]
    }
   ],
   "source": [
    "print 'строчка'.decode('windows-1251').encode('utf-8').decode('utf-8').encode('windows-1251')"
   ]
  },
  {
   "cell_type": "code",
   "execution_count": 21,
   "metadata": {
    "collapsed": false
   },
   "outputs": [
    {
     "name": "stdout",
     "output_type": "stream",
     "text": [
      "['\\xd0\\xbc\\xd0\\xb0\\xd0\\xbc\\xd0\\xb0', u'\\u043c\\u044b\\u043b\\u0430', u'\\u0440\\u0430\\u043c\\u0443']\n"
     ]
    }
   ],
   "source": [
    "my_list1 = ['мама', u'мыла', u'раму']\n",
    "print my_list1"
   ]
  },
  {
   "cell_type": "code",
   "execution_count": 22,
   "metadata": {
    "collapsed": false
   },
   "outputs": [
    {
     "name": "stdout",
     "output_type": "stream",
     "text": [
      "[u'\\u043c\\u0430\\u043c\\u0430', u'\\u043c\\u044b\\u043b\\u0430', u'\\u0440\\u0430\\u043c\\u0443']\n"
     ]
    }
   ],
   "source": [
    "my_list2 = [u'мама', u'мыла', u'раму']\n",
    "print my_list2"
   ]
  },
  {
   "cell_type": "code",
   "execution_count": 23,
   "metadata": {
    "collapsed": false
   },
   "outputs": [
    {
     "name": "stdout",
     "output_type": "stream",
     "text": [
      "[u'\\u043c\\u0430\\u043c\\u0430', '\\xd0\\xbc\\xd1\\x8b\\xd0\\xbb\\xd0\\xb0', '\\xf0\\xe0\\xec\\xf3']\n"
     ]
    }
   ],
   "source": [
    "my_list3 = [u'мама', 'мыла', u'раму'.encode('windows-1251')]\n",
    "print my_list3"
   ]
  },
  {
   "cell_type": "code",
   "execution_count": 24,
   "metadata": {
    "collapsed": false
   },
   "outputs": [
    {
     "name": "stdout",
     "output_type": "stream",
     "text": [
      "мама мама мама\n",
      "мыла мыла мыла\n",
      "раму раму ����\n"
     ]
    }
   ],
   "source": [
    "for x, y, z in zip(my_list1, my_list2, my_list3):\n",
    "    print x, y, z"
   ]
  },
  {
   "cell_type": "code",
   "execution_count": 25,
   "metadata": {
    "collapsed": false
   },
   "outputs": [
    {
     "ename": "UnicodeDecodeError",
     "evalue": "'ascii' codec can't decode byte 0xd0 in position 0: ordinal not in range(128)",
     "output_type": "error",
     "traceback": [
      "\u001b[1;31m---------------------------------------------------------------------------\u001b[0m",
      "\u001b[1;31mUnicodeDecodeError\u001b[0m                        Traceback (most recent call last)",
      "\u001b[1;32m<ipython-input-25-d7fc0083e404>\u001b[0m in \u001b[0;36m<module>\u001b[1;34m()\u001b[0m\n\u001b[1;32m----> 1\u001b[1;33m \u001b[1;34m' '\u001b[0m\u001b[1;33m.\u001b[0m\u001b[0mjoin\u001b[0m\u001b[1;33m(\u001b[0m\u001b[0mmy_list1\u001b[0m\u001b[1;33m)\u001b[0m\u001b[1;33m\u001b[0m\u001b[0m\n\u001b[0m",
      "\u001b[1;31mUnicodeDecodeError\u001b[0m: 'ascii' codec can't decode byte 0xd0 in position 0: ordinal not in range(128)"
     ]
    }
   ],
   "source": [
    "' '.join(my_list1)"
   ]
  },
  {
   "cell_type": "code",
   "execution_count": 26,
   "metadata": {
    "collapsed": false
   },
   "outputs": [
    {
     "data": {
      "text/plain": [
       "u'\\u043c\\u0430\\u043c\\u0430 \\u043c\\u044b\\u043b\\u0430 \\u0440\\u0430\\u043c\\u0443'"
      ]
     },
     "execution_count": 26,
     "metadata": {},
     "output_type": "execute_result"
    }
   ],
   "source": [
    "' '.join(my_list2)"
   ]
  },
  {
   "cell_type": "code",
   "execution_count": 27,
   "metadata": {
    "collapsed": false
   },
   "outputs": [
    {
     "ename": "UnicodeDecodeError",
     "evalue": "'ascii' codec can't decode byte 0xd0 in position 0: ordinal not in range(128)",
     "output_type": "error",
     "traceback": [
      "\u001b[1;31m---------------------------------------------------------------------------\u001b[0m",
      "\u001b[1;31mUnicodeDecodeError\u001b[0m                        Traceback (most recent call last)",
      "\u001b[1;32m<ipython-input-27-9a67d77777ea>\u001b[0m in \u001b[0;36m<module>\u001b[1;34m()\u001b[0m\n\u001b[1;32m----> 1\u001b[1;33m \u001b[1;34m' '\u001b[0m\u001b[1;33m.\u001b[0m\u001b[0mjoin\u001b[0m\u001b[1;33m(\u001b[0m\u001b[0mmy_list3\u001b[0m\u001b[1;33m)\u001b[0m\u001b[1;33m\u001b[0m\u001b[0m\n\u001b[0m",
      "\u001b[1;31mUnicodeDecodeError\u001b[0m: 'ascii' codec can't decode byte 0xd0 in position 0: ordinal not in range(128)"
     ]
    }
   ],
   "source": [
    "' '.join(my_list3)"
   ]
  },
  {
   "cell_type": "markdown",
   "metadata": {},
   "source": [
    "Существует специальная библиотека chardet"
   ]
  },
  {
   "cell_type": "markdown",
   "metadata": {},
   "source": [
    "Это не стандартная библиотека Python, поэтому её нужно будет установить\n",
    "\n",
    "Для этого нужно выполнить в консоли команду:\n",
    "\n",
    "pip install chardet\n",
    "\n",
    "или\n",
    "\n",
    "sudo pip install chardet"
   ]
  },
  {
   "cell_type": "code",
   "execution_count": 30,
   "metadata": {
    "collapsed": false
   },
   "outputs": [],
   "source": [
    "import chardet"
   ]
  },
  {
   "cell_type": "code",
   "execution_count": 31,
   "metadata": {
    "collapsed": false
   },
   "outputs": [
    {
     "ename": "TypeError",
     "evalue": "Expected object of type bytes or bytearray, got: <type 'unicode'>",
     "output_type": "error",
     "traceback": [
      "\u001b[1;31m---------------------------------------------------------------------------\u001b[0m",
      "\u001b[1;31mTypeError\u001b[0m                                 Traceback (most recent call last)",
      "\u001b[1;32m<ipython-input-31-a0e40389db90>\u001b[0m in \u001b[0;36m<module>\u001b[1;34m()\u001b[0m\n\u001b[1;32m----> 1\u001b[1;33m \u001b[0mchardet\u001b[0m\u001b[1;33m.\u001b[0m\u001b[0mdetect\u001b[0m\u001b[1;33m(\u001b[0m\u001b[1;34mu'строчка'\u001b[0m\u001b[1;33m)\u001b[0m\u001b[1;33m\u001b[0m\u001b[0m\n\u001b[0m",
      "\u001b[1;32mD:\\Programs\\Anaconda2\\envs\\py27\\lib\\site-packages\\chardet\\__init__.pyc\u001b[0m in \u001b[0;36mdetect\u001b[1;34m(byte_str)\u001b[0m\n\u001b[0;32m     32\u001b[0m         \u001b[1;32mif\u001b[0m \u001b[1;32mnot\u001b[0m \u001b[0misinstance\u001b[0m\u001b[1;33m(\u001b[0m\u001b[0mbyte_str\u001b[0m\u001b[1;33m,\u001b[0m \u001b[0mbytes\u001b[0m\u001b[1;33m)\u001b[0m\u001b[1;33m:\u001b[0m\u001b[1;33m\u001b[0m\u001b[0m\n\u001b[0;32m     33\u001b[0m             raise TypeError('Expected object of type bytes or bytearray, got: '\n\u001b[1;32m---> 34\u001b[1;33m                             '{0}'.format(type(byte_str)))\n\u001b[0m\u001b[0;32m     35\u001b[0m         \u001b[1;32melse\u001b[0m\u001b[1;33m:\u001b[0m\u001b[1;33m\u001b[0m\u001b[0m\n\u001b[0;32m     36\u001b[0m             \u001b[0mbyte_str\u001b[0m \u001b[1;33m=\u001b[0m \u001b[0mbytearray\u001b[0m\u001b[1;33m(\u001b[0m\u001b[0mbyte_str\u001b[0m\u001b[1;33m)\u001b[0m\u001b[1;33m\u001b[0m\u001b[0m\n",
      "\u001b[1;31mTypeError\u001b[0m: Expected object of type bytes or bytearray, got: <type 'unicode'>"
     ]
    }
   ],
   "source": [
    "chardet.detect(u'строчка')"
   ]
  },
  {
   "cell_type": "code",
   "execution_count": 32,
   "metadata": {
    "collapsed": false
   },
   "outputs": [
    {
     "data": {
      "text/plain": [
       "{'confidence': 0.99, 'encoding': 'utf-8', 'language': ''}"
      ]
     },
     "execution_count": 32,
     "metadata": {},
     "output_type": "execute_result"
    }
   ],
   "source": [
    "chardet.detect('строчка')"
   ]
  },
  {
   "cell_type": "code",
   "execution_count": 33,
   "metadata": {
    "collapsed": false
   },
   "outputs": [
    {
     "data": {
      "text/plain": [
       "{'confidence': 0.99, 'encoding': 'windows-1251', 'language': 'Russian'}"
      ]
     },
     "execution_count": 33,
     "metadata": {},
     "output_type": "execute_result"
    }
   ],
   "source": [
    "chardet.detect(u'строчка'.encode('windows-1251'))"
   ]
  },
  {
   "cell_type": "code",
   "execution_count": 34,
   "metadata": {
    "collapsed": false
   },
   "outputs": [
    {
     "data": {
      "text/plain": [
       "{'confidence': 0.73, 'encoding': 'ISO-8859-1', 'language': ''}"
      ]
     },
     "execution_count": 34,
     "metadata": {},
     "output_type": "execute_result"
    }
   ],
   "source": [
    "chardet.detect(u'абв'.encode('cp866'))"
   ]
  },
  {
   "cell_type": "code",
   "execution_count": 35,
   "metadata": {
    "collapsed": false
   },
   "outputs": [],
   "source": [
    "def my_decoder(val):\n",
    "    if type(val) is unicode:\n",
    "        return val\n",
    "    else:\n",
    "        return unicode(val, encoding=chardet.detect(val)['encoding'])"
   ]
  },
  {
   "cell_type": "code",
   "execution_count": 36,
   "metadata": {
    "collapsed": false
   },
   "outputs": [
    {
     "data": {
      "text/plain": [
       "u'\\u043c\\u0430\\u043c\\u0430 \\u043c\\u044b\\u043b\\u0430 \\u0440\\u0430\\u043c\\u0443'"
      ]
     },
     "execution_count": 36,
     "metadata": {},
     "output_type": "execute_result"
    }
   ],
   "source": [
    "u' '.join(map(my_decoder, my_list1))"
   ]
  },
  {
   "cell_type": "code",
   "execution_count": 37,
   "metadata": {
    "collapsed": false
   },
   "outputs": [
    {
     "data": {
      "text/plain": [
       "u'\\u043c\\u0430\\u043c\\u0430 \\u043c\\u044b\\u043b\\u0430 \\u0440\\u0430\\u043c\\u0443'"
      ]
     },
     "execution_count": 37,
     "metadata": {},
     "output_type": "execute_result"
    }
   ],
   "source": [
    "u' '.join(map(my_decoder, my_list2))"
   ]
  },
  {
   "cell_type": "code",
   "execution_count": 38,
   "metadata": {
    "collapsed": false
   },
   "outputs": [
    {
     "data": {
      "text/plain": [
       "u'\\u043c\\u0430\\u043c\\u0430 \\u043c\\u044b\\u043b\\u0430 \\u0440\\u0430\\u043c\\u0443'"
      ]
     },
     "execution_count": 38,
     "metadata": {},
     "output_type": "execute_result"
    }
   ],
   "source": [
    "u' '.join(map(my_decoder, my_list3))"
   ]
  },
  {
   "cell_type": "markdown",
   "metadata": {},
   "source": [
    "#### При прочих равных условиях переводите все строки в Unicode, чтобы не было проблем с кодировками"
   ]
  },
  {
   "cell_type": "markdown",
   "metadata": {},
   "source": [
    "# Модуль re"
   ]
  },
  {
   "cell_type": "markdown",
   "metadata": {},
   "source": [
    "Пример проблемы"
   ]
  },
  {
   "cell_type": "code",
   "execution_count": 39,
   "metadata": {
    "collapsed": false
   },
   "outputs": [
    {
     "data": {
      "text/plain": [
       "['first,second', 'third,fourth']"
      ]
     },
     "execution_count": 39,
     "metadata": {},
     "output_type": "execute_result"
    }
   ],
   "source": [
    "'first,second;third,fourth'.split(';')"
   ]
  },
  {
   "cell_type": "code",
   "execution_count": 40,
   "metadata": {
    "collapsed": false
   },
   "outputs": [
    {
     "data": {
      "text/plain": [
       "['first', 'second;third', 'fourth']"
      ]
     },
     "execution_count": 40,
     "metadata": {},
     "output_type": "execute_result"
    }
   ],
   "source": [
    "'first,second;third,fourth'.split(',')"
   ]
  },
  {
   "cell_type": "code",
   "execution_count": 41,
   "metadata": {
    "collapsed": false
   },
   "outputs": [
    {
     "data": {
      "text/plain": [
       "['first,second;third,fourth']"
      ]
     },
     "execution_count": 41,
     "metadata": {},
     "output_type": "execute_result"
    }
   ],
   "source": [
    "'first,second;third,fourth'.split(',;')"
   ]
  },
  {
   "cell_type": "markdown",
   "metadata": {},
   "source": [
    "Не получается разделить по одному из двух символов"
   ]
  },
  {
   "cell_type": "markdown",
   "metadata": {},
   "source": [
    "Ещё пример проблемы"
   ]
  },
  {
   "cell_type": "markdown",
   "metadata": {},
   "source": [
    "Есть тексты ценников на яблоки с рынка. Нам нужно вычленить из текста числа и получить просто список int-ов (мы точно знаем, что где-то там написана числами цена в рублях, но не знаем где именно)"
   ]
  },
  {
   "cell_type": "markdown",
   "metadata": {},
   "source": [
    "При помощи split это очень трудно сделать в общем виде, так как всегда может быть запись не по формату "
   ]
  },
  {
   "cell_type": "code",
   "execution_count": 42,
   "metadata": {
    "collapsed": true
   },
   "outputs": [],
   "source": [
    "apple_prices = [ \n",
    "    u'100 рублей',\n",
    "    u'дёшево!!! 80 рублей',\n",
    "    u'очень сладкие 120 рублей',\n",
    "    u'120 рублей, последний урожай',\n",
    "    u'110'\n",
    "]"
   ]
  },
  {
   "cell_type": "markdown",
   "metadata": {},
   "source": [
    "Помогает модуль re"
   ]
  },
  {
   "cell_type": "code",
   "execution_count": 43,
   "metadata": {
    "collapsed": true
   },
   "outputs": [],
   "source": [
    "import re"
   ]
  },
  {
   "cell_type": "markdown",
   "metadata": {},
   "source": [
    "Он позволяет описывает определённые шаблоны и в дальнейшем их искать в тексте и многие другие операции с ними."
   ]
  },
  {
   "cell_type": "code",
   "execution_count": 44,
   "metadata": {
    "collapsed": false
   },
   "outputs": [
    {
     "name": "stdout",
     "output_type": "stream",
     "text": [
      "[u'100']\n",
      "[u'80']\n",
      "[u'120']\n",
      "[u'120']\n",
      "[u'110']\n"
     ]
    }
   ],
   "source": [
    "for price in apple_prices:\n",
    "    print re.findall('[0-9]+', price)"
   ]
  },
  {
   "cell_type": "code",
   "execution_count": 45,
   "metadata": {
    "collapsed": false
   },
   "outputs": [
    {
     "data": {
      "text/plain": [
       "[100, 80, 120, 120, 110]"
      ]
     },
     "execution_count": 45,
     "metadata": {},
     "output_type": "execute_result"
    }
   ],
   "source": [
    "map(lambda p: int(re.findall('[0-9]+', p)[0]), apple_prices)"
   ]
  },
  {
   "cell_type": "code",
   "execution_count": 46,
   "metadata": {
    "collapsed": false
   },
   "outputs": [
    {
     "data": {
      "text/plain": [
       "['12313212', '312312']"
      ]
     },
     "execution_count": 46,
     "metadata": {},
     "output_type": "execute_result"
    }
   ],
   "source": [
    "re.findall('[0-9]+', '12313212 . 312312')"
   ]
  },
  {
   "cell_type": "markdown",
   "metadata": {},
   "source": [
    "Как делить строчку по шаблону"
   ]
  },
  {
   "cell_type": "code",
   "execution_count": 47,
   "metadata": {
    "collapsed": false
   },
   "outputs": [
    {
     "data": {
      "text/plain": [
       "['first,second', 'third,fourth']"
      ]
     },
     "execution_count": 47,
     "metadata": {},
     "output_type": "execute_result"
    }
   ],
   "source": [
    "re.split(';', 'first,second;third,fourth')"
   ]
  },
  {
   "cell_type": "code",
   "execution_count": 48,
   "metadata": {
    "collapsed": false
   },
   "outputs": [
    {
     "data": {
      "text/plain": [
       "['first', 'second;third', 'fourth']"
      ]
     },
     "execution_count": 48,
     "metadata": {},
     "output_type": "execute_result"
    }
   ],
   "source": [
    "re.split(',', 'first,second;third,fourth')"
   ]
  },
  {
   "cell_type": "code",
   "execution_count": 49,
   "metadata": {
    "collapsed": false
   },
   "outputs": [
    {
     "data": {
      "text/plain": [
       "['first,second;third,fourth']"
      ]
     },
     "execution_count": 49,
     "metadata": {},
     "output_type": "execute_result"
    }
   ],
   "source": [
    "re.split(',;', 'first,second;third,fourth')"
   ]
  },
  {
   "cell_type": "code",
   "execution_count": 50,
   "metadata": {
    "collapsed": false
   },
   "outputs": [
    {
     "data": {
      "text/plain": [
       "['first', 'second', 'third', 'fourth']"
      ]
     },
     "execution_count": 50,
     "metadata": {},
     "output_type": "execute_result"
    }
   ],
   "source": [
    "re.split('[,;]', 'first,second;third,fourth')"
   ]
  },
  {
   "cell_type": "markdown",
   "metadata": {},
   "source": [
    "Документация модуля re \n",
    "\n",
    "https://docs.python.org/2/library/re.html"
   ]
  },
  {
   "cell_type": "markdown",
   "metadata": {},
   "source": [
    "## Работа с файлами"
   ]
  },
  {
   "cell_type": "code",
   "execution_count": 51,
   "metadata": {
    "collapsed": false
   },
   "outputs": [
    {
     "data": {
      "text/plain": [
       "<open file 'test.txt', mode 'w' at 0x0000000005F00420>"
      ]
     },
     "execution_count": 51,
     "metadata": {},
     "output_type": "execute_result"
    }
   ],
   "source": [
    "f = open('test.txt', 'w')\n",
    "f"
   ]
  },
  {
   "cell_type": "markdown",
   "metadata": {},
   "source": [
    "в блокнотах можно запускать некоторые стандартные unix команды\n",
    "\n",
    "например, ls показывает список файлов в текущей папке, rm удаляет файл, а cat выводит содержимое файла\n",
    "\n",
    "перед названием команды надо ставить !"
   ]
  },
  {
   "cell_type": "code",
   "execution_count": 52,
   "metadata": {
    "collapsed": false
   },
   "outputs": [
    {
     "name": "stderr",
     "output_type": "stream",
     "text": [
      "\"ls\" ­Ґ пў«пҐвбп ў­гваҐ­­Ґ© Ё«Ё ў­Ґи­Ґ©\n",
      "Є®¬ ­¤®©, ЁбЇ®«­пҐ¬®© Їа®Ја ¬¬®© Ё«Ё Ї ЄҐв­л¬ д ©«®¬.\n"
     ]
    }
   ],
   "source": [
    "!ls"
   ]
  },
  {
   "cell_type": "code",
   "execution_count": 53,
   "metadata": {
    "collapsed": false
   },
   "outputs": [
    {
     "name": "stdout",
     "output_type": "stream",
     "text": [
      " ’®¬ ў гбва®©бвўҐ D Ё¬ҐҐв ¬ҐвЄг ‹®Є «м­л© ¤ЁбЄ\n",
      " ‘ҐаЁ©­л© ­®¬Ґа в®¬ : 9605-C03A\n",
      "\n",
      " ‘®¤Ґа¦Ё¬®Ґ Ї ЇЄЁ D:\\Programs\\Anaconda2\\Scripts\\SBT_Python_2017_Fall\\lectures\n",
      "\n",
      "11.10.2017  19:13    <DIR>          .\n",
      "11.10.2017  19:13    <DIR>          ..\n",
      "11.10.2017  18:51    <DIR>          .ipynb_checkpoints\n",
      "04.10.2017  07:44            56я292 2_Syntax_part1.ipynb\n",
      "10.10.2017  02:08            39я351 3_Syntax_part2.ipynb\n",
      "11.10.2017  19:13            52я365 4_Encodings_Files.ipynb\n",
      "11.10.2017  19:13                 0 test.txt\n",
      "               4 д ©«®ў        148я008 Ў ©в\n",
      "               3 Ї Ї®Є  770я194я292я736 Ў ©в бў®Ў®¤­®\n"
     ]
    }
   ],
   "source": [
    "!dir"
   ]
  },
  {
   "cell_type": "code",
   "execution_count": 54,
   "metadata": {
    "collapsed": true
   },
   "outputs": [],
   "source": [
    "f.write('hello, world')"
   ]
  },
  {
   "cell_type": "code",
   "execution_count": 55,
   "metadata": {
    "collapsed": false
   },
   "outputs": [
    {
     "name": "stderr",
     "output_type": "stream",
     "text": [
      "\"cat\" ­Ґ пў«пҐвбп ў­гваҐ­­Ґ© Ё«Ё ў­Ґи­Ґ©\n",
      "Є®¬ ­¤®©, ЁбЇ®«­пҐ¬®© Їа®Ја ¬¬®© Ё«Ё Ї ЄҐв­л¬ д ©«®¬.\n"
     ]
    }
   ],
   "source": [
    "!cat test.txt"
   ]
  },
  {
   "cell_type": "code",
   "execution_count": 56,
   "metadata": {
    "collapsed": true
   },
   "outputs": [],
   "source": [
    "!type test.txt"
   ]
  },
  {
   "cell_type": "code",
   "execution_count": 57,
   "metadata": {
    "collapsed": true
   },
   "outputs": [],
   "source": [
    "f.close()"
   ]
  },
  {
   "cell_type": "code",
   "execution_count": 58,
   "metadata": {
    "collapsed": false
   },
   "outputs": [
    {
     "name": "stderr",
     "output_type": "stream",
     "text": [
      "\"cat\" ­Ґ пў«пҐвбп ў­гваҐ­­Ґ© Ё«Ё ў­Ґи­Ґ©\n",
      "Є®¬ ­¤®©, ЁбЇ®«­пҐ¬®© Їа®Ја ¬¬®© Ё«Ё Ї ЄҐв­л¬ д ©«®¬.\n"
     ]
    }
   ],
   "source": [
    "!cat test.txt"
   ]
  },
  {
   "cell_type": "code",
   "execution_count": 59,
   "metadata": {
    "collapsed": false
   },
   "outputs": [
    {
     "name": "stdout",
     "output_type": "stream",
     "text": [
      "hello, world\n"
     ]
    }
   ],
   "source": [
    "!type test.txt"
   ]
  },
  {
   "cell_type": "code",
   "execution_count": 60,
   "metadata": {
    "collapsed": false
   },
   "outputs": [
    {
     "name": "stderr",
     "output_type": "stream",
     "text": [
      "\"rm\" ­Ґ пў«пҐвбп ў­гваҐ­­Ґ© Ё«Ё ў­Ґи­Ґ©\n",
      "Є®¬ ­¤®©, ЁбЇ®«­пҐ¬®© Їа®Ја ¬¬®© Ё«Ё Ї ЄҐв­л¬ д ©«®¬.\n"
     ]
    }
   ],
   "source": [
    "!rm test.txt"
   ]
  },
  {
   "cell_type": "code",
   "execution_count": 61,
   "metadata": {
    "collapsed": true
   },
   "outputs": [],
   "source": [
    "!del test.txt"
   ]
  },
  {
   "cell_type": "code",
   "execution_count": null,
   "metadata": {
    "collapsed": true
   },
   "outputs": [],
   "source": []
  },
  {
   "cell_type": "code",
   "execution_count": 62,
   "metadata": {
    "collapsed": true
   },
   "outputs": [],
   "source": [
    "f1 = open('test.txt', 'w')\n",
    "f1.write('hello, world')"
   ]
  },
  {
   "cell_type": "code",
   "execution_count": 63,
   "metadata": {
    "collapsed": false
   },
   "outputs": [
    {
     "data": {
      "text/plain": [
       "''"
      ]
     },
     "execution_count": 63,
     "metadata": {},
     "output_type": "execute_result"
    }
   ],
   "source": [
    "f2 = open('test.txt', 'r')\n",
    "f2.read()"
   ]
  },
  {
   "cell_type": "code",
   "execution_count": 64,
   "metadata": {
    "collapsed": false
   },
   "outputs": [
    {
     "data": {
      "text/plain": [
       "''"
      ]
     },
     "execution_count": 64,
     "metadata": {},
     "output_type": "execute_result"
    }
   ],
   "source": [
    "f1.write('hello, world')\n",
    "f2.read()"
   ]
  },
  {
   "cell_type": "code",
   "execution_count": 65,
   "metadata": {
    "collapsed": false
   },
   "outputs": [
    {
     "data": {
      "text/plain": [
       "'hello, worldhello, world'"
      ]
     },
     "execution_count": 65,
     "metadata": {},
     "output_type": "execute_result"
    }
   ],
   "source": [
    "f1.close()\n",
    "f2.read()"
   ]
  },
  {
   "cell_type": "code",
   "execution_count": 67,
   "metadata": {
    "collapsed": true
   },
   "outputs": [],
   "source": [
    "f1 = open('test.txt', 'w')"
   ]
  },
  {
   "cell_type": "code",
   "execution_count": 68,
   "metadata": {
    "collapsed": false
   },
   "outputs": [
    {
     "data": {
      "text/plain": [
       "''"
      ]
     },
     "execution_count": 68,
     "metadata": {},
     "output_type": "execute_result"
    }
   ],
   "source": [
    "f1.write('hello, world')\n",
    "f2.read()"
   ]
  },
  {
   "cell_type": "code",
   "execution_count": 69,
   "metadata": {
    "collapsed": false
   },
   "outputs": [
    {
     "data": {
      "text/plain": [
       "''"
      ]
     },
     "execution_count": 69,
     "metadata": {},
     "output_type": "execute_result"
    }
   ],
   "source": [
    "f1.close()\n",
    "f2.read()"
   ]
  },
  {
   "cell_type": "code",
   "execution_count": 70,
   "metadata": {
    "collapsed": true
   },
   "outputs": [],
   "source": [
    "f2.close()"
   ]
  },
  {
   "cell_type": "code",
   "execution_count": null,
   "metadata": {
    "collapsed": false
   },
   "outputs": [],
   "source": [
    "!cat test.txt"
   ]
  },
  {
   "cell_type": "code",
   "execution_count": 71,
   "metadata": {
    "collapsed": false
   },
   "outputs": [
    {
     "name": "stdout",
     "output_type": "stream",
     "text": [
      "hello, world\n"
     ]
    }
   ],
   "source": [
    "!type test.txt"
   ]
  },
  {
   "cell_type": "code",
   "execution_count": null,
   "metadata": {
    "collapsed": true
   },
   "outputs": [],
   "source": [
    "!rm test.txt"
   ]
  },
  {
   "cell_type": "code",
   "execution_count": 72,
   "metadata": {
    "collapsed": true
   },
   "outputs": [],
   "source": [
    "!del test.txt"
   ]
  },
  {
   "cell_type": "code",
   "execution_count": 73,
   "metadata": {
    "collapsed": false
   },
   "outputs": [],
   "source": [
    "with open('test.txt', 'w') as ff:\n",
    "    ff.write('hello, world')"
   ]
  },
  {
   "cell_type": "code",
   "execution_count": 74,
   "metadata": {
    "collapsed": false
   },
   "outputs": [
    {
     "data": {
      "text/plain": [
       "<closed file 'test.txt', mode 'w' at 0x0000000005F008A0>"
      ]
     },
     "execution_count": 74,
     "metadata": {},
     "output_type": "execute_result"
    }
   ],
   "source": [
    "ff"
   ]
  },
  {
   "cell_type": "markdown",
   "metadata": {},
   "source": [
    "После выхода из блока with файл\n",
    "гарантированно закрыт.\n",
    "\n",
    "Это рекомендуемый способ работы с файлами."
   ]
  },
  {
   "cell_type": "code",
   "execution_count": 75,
   "metadata": {
    "collapsed": false
   },
   "outputs": [
    {
     "name": "stdout",
     "output_type": "stream",
     "text": [
      "hello, world\n"
     ]
    }
   ],
   "source": [
    "with open('test.txt', 'r') as ff:\n",
    "    print ff.read()"
   ]
  },
  {
   "cell_type": "code",
   "execution_count": 76,
   "metadata": {
    "collapsed": false
   },
   "outputs": [
    {
     "data": {
      "text/plain": [
       "<closed file 'test.txt', mode 'r' at 0x0000000005F00930>"
      ]
     },
     "execution_count": 76,
     "metadata": {},
     "output_type": "execute_result"
    }
   ],
   "source": [
    "ff"
   ]
  },
  {
   "cell_type": "code",
   "execution_count": 77,
   "metadata": {
    "collapsed": false
   },
   "outputs": [
    {
     "name": "stdout",
     "output_type": "stream",
     "text": [
      "\n"
     ]
    }
   ],
   "source": [
    "with open('test.txt', 'w') as f1, open('test.txt', 'r') as f2:\n",
    "    f1.write('hello, world')\n",
    "    print f2.read()"
   ]
  },
  {
   "cell_type": "code",
   "execution_count": 78,
   "metadata": {
    "collapsed": false
   },
   "outputs": [
    {
     "name": "stdout",
     "output_type": "stream",
     "text": [
      "hello, world\n"
     ]
    }
   ],
   "source": [
    "with open('test.txt', 'w') as f1, open('test.txt', 'r') as f2:\n",
    "    f1.write('hello, world')\n",
    "    f1.flush()\n",
    "    print f2.read()"
   ]
  },
  {
   "cell_type": "code",
   "execution_count": 79,
   "metadata": {
    "collapsed": false
   },
   "outputs": [
    {
     "data": {
      "text/plain": [
       "<closed file 'test.txt', mode 'w' at 0x0000000005F00810>"
      ]
     },
     "execution_count": 79,
     "metadata": {},
     "output_type": "execute_result"
    }
   ],
   "source": [
    "f1"
   ]
  },
  {
   "cell_type": "code",
   "execution_count": 80,
   "metadata": {
    "collapsed": false
   },
   "outputs": [
    {
     "data": {
      "text/plain": [
       "<closed file 'test.txt', mode 'r' at 0x0000000005F00660>"
      ]
     },
     "execution_count": 80,
     "metadata": {},
     "output_type": "execute_result"
    }
   ],
   "source": [
    "f2"
   ]
  },
  {
   "cell_type": "code",
   "execution_count": null,
   "metadata": {
    "collapsed": true
   },
   "outputs": [],
   "source": [
    "!rm test.txt"
   ]
  },
  {
   "cell_type": "code",
   "execution_count": 81,
   "metadata": {
    "collapsed": true
   },
   "outputs": [],
   "source": [
    "!del test.txt"
   ]
  },
  {
   "cell_type": "markdown",
   "metadata": {},
   "source": [
    "## Операции с файлами"
   ]
  },
  {
   "cell_type": "code",
   "execution_count": 82,
   "metadata": {
    "collapsed": false
   },
   "outputs": [],
   "source": [
    "with open('test.txt', 'w') as ff:\n",
    "    ff.write('1\\n')\n",
    "    ff.write('\\t2\\n')\n",
    "    ff.write('\\t\\t3\\n')\n",
    "    ff.write('\\t\\t\\t4\\n')"
   ]
  },
  {
   "cell_type": "code",
   "execution_count": 83,
   "metadata": {
    "collapsed": false
   },
   "outputs": [
    {
     "name": "stdout",
     "output_type": "stream",
     "text": [
      "!\n",
      "1\n",
      "\t2\n",
      "\t\t3\n",
      "\t\t\t4\n",
      "\n",
      "!\n",
      "\n"
     ]
    }
   ],
   "source": [
    "with open('test.txt', 'r') as ff:\n",
    "    print '!'\n",
    "    print ff.read()\n",
    "    print '!'\n",
    "    print ff.read()"
   ]
  },
  {
   "cell_type": "code",
   "execution_count": 84,
   "metadata": {
    "collapsed": false
   },
   "outputs": [
    {
     "name": "stdout",
     "output_type": "stream",
     "text": [
      "['1\\n', '\\t2\\n', '\\t\\t3\\n', '\\t\\t\\t4\\n']\n"
     ]
    }
   ],
   "source": [
    "with open('test.txt', 'r') as ff:\n",
    "    print ff.readlines()"
   ]
  },
  {
   "cell_type": "code",
   "execution_count": 85,
   "metadata": {
    "collapsed": false
   },
   "outputs": [
    {
     "name": "stdout",
     "output_type": "stream",
     "text": [
      "<open file 'test.txt', mode 'r' at 0x0000000005F00780>\n"
     ]
    }
   ],
   "source": [
    "with open('test.txt', 'r') as ff:\n",
    "    print ff.xreadlines()"
   ]
  },
  {
   "cell_type": "code",
   "execution_count": 86,
   "metadata": {
    "collapsed": false
   },
   "outputs": [
    {
     "name": "stdout",
     "output_type": "stream",
     "text": [
      "\"1\n",
      "\"\n",
      "!\n",
      "\"\t2\n",
      "\"\n",
      "!\n",
      "\"\t\t3\n",
      "\"\n",
      "!\n",
      "\"\t\t\t4\n",
      "\"\n",
      "!\n"
     ]
    }
   ],
   "source": [
    "with open('test.txt', 'r') as ff:\n",
    "    for line in ff.xreadlines():\n",
    "        print '\"{}\"'.format(line)\n",
    "        print '!'"
   ]
  },
  {
   "cell_type": "code",
   "execution_count": 87,
   "metadata": {
    "collapsed": false
   },
   "outputs": [
    {
     "name": "stdout",
     "output_type": "stream",
     "text": [
      "\"1\"\n",
      "!\n",
      "\"2\"\n",
      "!\n",
      "\"3\"\n",
      "!\n",
      "\"4\"\n",
      "!\n"
     ]
    }
   ],
   "source": [
    "with open('test.txt', 'r') as ff:\n",
    "    for line in ff.xreadlines():\n",
    "        print '\"{}\"'.format(line.strip())\n",
    "        print '!'"
   ]
  },
  {
   "cell_type": "code",
   "execution_count": 88,
   "metadata": {
    "collapsed": false
   },
   "outputs": [
    {
     "name": "stdout",
     "output_type": "stream",
     "text": [
      "[1, 2, 3, 4]\n"
     ]
    }
   ],
   "source": [
    "with open('test.txt', 'r') as ff:\n",
    "    print map(int, ff.xreadlines())"
   ]
  },
  {
   "cell_type": "code",
   "execution_count": 89,
   "metadata": {
    "collapsed": false
   },
   "outputs": [
    {
     "name": "stdout",
     "output_type": "stream",
     "text": [
      "\"1\"\n",
      "!\n",
      "\"2\"\n",
      "!\n",
      "\"3\"\n",
      "!\n",
      "\"4\"\n",
      "!\n"
     ]
    }
   ],
   "source": [
    "with open('test.txt', 'r') as ff:\n",
    "    for line in ff:\n",
    "        print '\"{}\"'.format(line.strip())\n",
    "        print '!'"
   ]
  },
  {
   "cell_type": "code",
   "execution_count": 90,
   "metadata": {
    "collapsed": false
   },
   "outputs": [
    {
     "name": "stdout",
     "output_type": "stream",
     "text": [
      "[1, 2, 3, 4]\n"
     ]
    }
   ],
   "source": [
    "with open('test.txt', 'r') as ff:\n",
    "    print map(int, ff)"
   ]
  },
  {
   "cell_type": "markdown",
   "metadata": {},
   "source": [
    "## Кодировки файлов"
   ]
  },
  {
   "cell_type": "markdown",
   "metadata": {},
   "source": [
    "Данные в файл не записываются в Unicode, они приводятся в какую-то кодировку и в этой кодировке записывают в файл. Поэтому нужно следить за этим."
   ]
  },
  {
   "cell_type": "markdown",
   "metadata": {},
   "source": [
    "С латинскими символами всё хорошо"
   ]
  },
  {
   "cell_type": "code",
   "execution_count": 91,
   "metadata": {
    "collapsed": true
   },
   "outputs": [],
   "source": [
    "with open('test.txt', 'w') as ff:\n",
    "    ff.write(u'hello, world')"
   ]
  },
  {
   "cell_type": "code",
   "execution_count": 92,
   "metadata": {
    "collapsed": false
   },
   "outputs": [
    {
     "name": "stdout",
     "output_type": "stream",
     "text": [
      "hello, world\n"
     ]
    }
   ],
   "source": [
    "with open('test.txt', 'r') as ff:\n",
    "    print ff.read()"
   ]
  },
  {
   "cell_type": "code",
   "execution_count": null,
   "metadata": {
    "collapsed": true
   },
   "outputs": [],
   "source": []
  },
  {
   "cell_type": "code",
   "execution_count": 93,
   "metadata": {
    "collapsed": true
   },
   "outputs": [],
   "source": [
    "with open('test.txt', 'w') as ff:\n",
    "    ff.write(u'hello, world'.encode('windows-1251'))"
   ]
  },
  {
   "cell_type": "code",
   "execution_count": 94,
   "metadata": {
    "collapsed": false
   },
   "outputs": [
    {
     "name": "stdout",
     "output_type": "stream",
     "text": [
      "hello, world\n"
     ]
    }
   ],
   "source": [
    "with open('test.txt', 'r') as ff:\n",
    "    print ff.read()"
   ]
  },
  {
   "cell_type": "code",
   "execution_count": null,
   "metadata": {
    "collapsed": true
   },
   "outputs": [],
   "source": []
  },
  {
   "cell_type": "code",
   "execution_count": 95,
   "metadata": {
    "collapsed": true
   },
   "outputs": [],
   "source": [
    "with open('test.txt', 'w') as ff:\n",
    "    ff.write(u'hello, world'.encode('cp866'))"
   ]
  },
  {
   "cell_type": "code",
   "execution_count": 96,
   "metadata": {
    "collapsed": false
   },
   "outputs": [
    {
     "name": "stdout",
     "output_type": "stream",
     "text": [
      "hello, world\n"
     ]
    }
   ],
   "source": [
    "with open('test.txt', 'r') as ff:\n",
    "    print ff.read()"
   ]
  },
  {
   "cell_type": "code",
   "execution_count": null,
   "metadata": {
    "collapsed": true
   },
   "outputs": [],
   "source": []
  },
  {
   "cell_type": "markdown",
   "metadata": {},
   "source": [
    "Но стоит перейти к кирилице и начинается"
   ]
  },
  {
   "cell_type": "code",
   "execution_count": 97,
   "metadata": {
    "collapsed": false
   },
   "outputs": [
    {
     "ename": "UnicodeEncodeError",
     "evalue": "'ascii' codec can't encode characters in position 0-9: ordinal not in range(128)",
     "output_type": "error",
     "traceback": [
      "\u001b[1;31m---------------------------------------------------------------------------\u001b[0m",
      "\u001b[1;31mUnicodeEncodeError\u001b[0m                        Traceback (most recent call last)",
      "\u001b[1;32m<ipython-input-97-6d04ab25af5b>\u001b[0m in \u001b[0;36m<module>\u001b[1;34m()\u001b[0m\n\u001b[0;32m      1\u001b[0m \u001b[1;32mwith\u001b[0m \u001b[0mopen\u001b[0m\u001b[1;33m(\u001b[0m\u001b[1;34m'test.txt'\u001b[0m\u001b[1;33m,\u001b[0m \u001b[1;34m'w'\u001b[0m\u001b[1;33m)\u001b[0m \u001b[1;32mas\u001b[0m \u001b[0mff\u001b[0m\u001b[1;33m:\u001b[0m\u001b[1;33m\u001b[0m\u001b[0m\n\u001b[1;32m----> 2\u001b[1;33m     \u001b[0mff\u001b[0m\u001b[1;33m.\u001b[0m\u001b[0mwrite\u001b[0m\u001b[1;33m(\u001b[0m\u001b[1;34mu'Здравствуй, мир'\u001b[0m\u001b[1;33m)\u001b[0m\u001b[1;33m\u001b[0m\u001b[0m\n\u001b[0m",
      "\u001b[1;31mUnicodeEncodeError\u001b[0m: 'ascii' codec can't encode characters in position 0-9: ordinal not in range(128)"
     ]
    }
   ],
   "source": [
    "with open('test.txt', 'w') as ff:\n",
    "    ff.write(u'Здравствуй, мир')"
   ]
  },
  {
   "cell_type": "code",
   "execution_count": 98,
   "metadata": {
    "collapsed": true
   },
   "outputs": [],
   "source": [
    "with open('test.txt', 'w') as ff:\n",
    "    ff.write(u'Здравствуй, мир'.encode('utf-8'))"
   ]
  },
  {
   "cell_type": "code",
   "execution_count": 99,
   "metadata": {
    "collapsed": false
   },
   "outputs": [
    {
     "name": "stdout",
     "output_type": "stream",
     "text": [
      "Здравствуй, мир\n"
     ]
    }
   ],
   "source": [
    "with open('test.txt', 'r') as ff:\n",
    "    print ff.read()"
   ]
  },
  {
   "cell_type": "code",
   "execution_count": null,
   "metadata": {
    "collapsed": true
   },
   "outputs": [],
   "source": []
  },
  {
   "cell_type": "code",
   "execution_count": 100,
   "metadata": {
    "collapsed": true
   },
   "outputs": [],
   "source": [
    "with open('test.txt', 'w') as ff:\n",
    "    ff.write(u'Здравствуй, мир'.encode('windows-1251'))"
   ]
  },
  {
   "cell_type": "code",
   "execution_count": 101,
   "metadata": {
    "collapsed": false
   },
   "outputs": [
    {
     "name": "stdout",
     "output_type": "stream",
     "text": [
      "����������, ���\n"
     ]
    }
   ],
   "source": [
    "with open('test.txt', 'r') as ff:\n",
    "    print ff.read()"
   ]
  },
  {
   "cell_type": "code",
   "execution_count": null,
   "metadata": {
    "collapsed": true
   },
   "outputs": [],
   "source": []
  },
  {
   "cell_type": "code",
   "execution_count": 102,
   "metadata": {
    "collapsed": true
   },
   "outputs": [],
   "source": [
    "with open('test.txt', 'w') as ff:\n",
    "    ff.write(u'Здравствуй, мир'.encode('cp866'))"
   ]
  },
  {
   "cell_type": "code",
   "execution_count": 103,
   "metadata": {
    "collapsed": false
   },
   "outputs": [
    {
     "name": "stdout",
     "output_type": "stream",
     "text": [
      "��ࠢ���, ���\n"
     ]
    }
   ],
   "source": [
    "with open('test.txt', 'r') as ff:\n",
    "    print ff.read()"
   ]
  },
  {
   "cell_type": "code",
   "execution_count": null,
   "metadata": {
    "collapsed": true
   },
   "outputs": [],
   "source": []
  },
  {
   "cell_type": "code",
   "execution_count": 104,
   "metadata": {
    "collapsed": true
   },
   "outputs": [],
   "source": [
    "with open('test.txt', 'w') as ff:\n",
    "    ff.write(u'Здравствуй, мир'.encode('windows-1251'))"
   ]
  },
  {
   "cell_type": "code",
   "execution_count": 105,
   "metadata": {
    "collapsed": false
   },
   "outputs": [
    {
     "name": "stdout",
     "output_type": "stream",
     "text": [
      "«дравствуй, мир\n"
     ]
    }
   ],
   "source": [
    "with open('test.txt', 'r') as ff:\n",
    "    print my_decoder(ff.read())"
   ]
  },
  {
   "cell_type": "markdown",
   "metadata": {},
   "source": [
    "Наш decoder не справился, давайте посмотрим, что говорит chardet"
   ]
  },
  {
   "cell_type": "code",
   "execution_count": 106,
   "metadata": {
    "collapsed": false
   },
   "outputs": [
    {
     "name": "stdout",
     "output_type": "stream",
     "text": [
      "{'confidence': 0.8506741553297926, 'language': 'Russian', 'encoding': 'MacCyrillic'}\n"
     ]
    }
   ],
   "source": [
    "with open('test.txt', 'r') as ff:\n",
    "    print chardet.detect(ff.read())"
   ]
  },
  {
   "cell_type": "markdown",
   "metadata": {},
   "source": [
    "Так как символов мало, chardet неправильно определяет кодировку. Отсюда вывод - не стоит всегда надеятся на chardet"
   ]
  },
  {
   "cell_type": "code",
   "execution_count": 107,
   "metadata": {
    "collapsed": false
   },
   "outputs": [
    {
     "name": "stdout",
     "output_type": "stream",
     "text": [
      "Здравствуй, мир\n"
     ]
    }
   ],
   "source": [
    "with open('test.txt', 'r') as ff:\n",
    "    print ff.read().decode('windows-1251')"
   ]
  },
  {
   "cell_type": "markdown",
   "metadata": {},
   "source": [
    "Усли явно указать кодировку, то всё работает"
   ]
  },
  {
   "cell_type": "code",
   "execution_count": null,
   "metadata": {
    "collapsed": true
   },
   "outputs": [],
   "source": []
  },
  {
   "cell_type": "code",
   "execution_count": 108,
   "metadata": {
    "collapsed": true
   },
   "outputs": [],
   "source": [
    "with open('test.txt', 'w') as ff:\n",
    "    ff.write(u'Здравствуй, мир'.encode('cp866'))"
   ]
  },
  {
   "cell_type": "code",
   "execution_count": 109,
   "metadata": {
    "collapsed": false
   },
   "outputs": [
    {
     "name": "stdout",
     "output_type": "stream",
     "text": [
      "Здравствуй, мир\n"
     ]
    }
   ],
   "source": [
    "with open('test.txt', 'r') as ff:\n",
    "    print ff.read().decode('cp866')"
   ]
  },
  {
   "cell_type": "code",
   "execution_count": null,
   "metadata": {
    "collapsed": true
   },
   "outputs": [],
   "source": []
  },
  {
   "cell_type": "markdown",
   "metadata": {},
   "source": [
    "## Системные операции с файлами"
   ]
  },
  {
   "cell_type": "code",
   "execution_count": 110,
   "metadata": {
    "collapsed": true
   },
   "outputs": [],
   "source": [
    "import os"
   ]
  },
  {
   "cell_type": "code",
   "execution_count": 111,
   "metadata": {
    "collapsed": false
   },
   "outputs": [
    {
     "data": {
      "text/plain": [
       "['.ipynb_checkpoints',\n",
       " '2_Syntax_part1.ipynb',\n",
       " '3_Syntax_part2.ipynb',\n",
       " '4_Encodings_Files.ipynb',\n",
       " 'test.txt']"
      ]
     },
     "execution_count": 111,
     "metadata": {},
     "output_type": "execute_result"
    }
   ],
   "source": [
    "os.listdir('.')"
   ]
  },
  {
   "cell_type": "code",
   "execution_count": 112,
   "metadata": {
    "collapsed": false
   },
   "outputs": [
    {
     "name": "stdout",
     "output_type": "stream",
     "text": [
      "('.', ['.ipynb_checkpoints'], ['2_Syntax_part1.ipynb', '3_Syntax_part2.ipynb', '4_Encodings_Files.ipynb', 'test.txt'])\n",
      "('.\\\\.ipynb_checkpoints', [], ['3_Syntax_part2-checkpoint.ipynb', '4_Encodings_Files-checkpoint.ipynb'])\n"
     ]
    }
   ],
   "source": [
    "for (dirpath, dirnames, filenames) in os.walk('.'):\n",
    "    print (dirpath, dirnames, filenames)"
   ]
  },
  {
   "cell_type": "code",
   "execution_count": 113,
   "metadata": {
    "collapsed": false
   },
   "outputs": [
    {
     "name": "stdout",
     "output_type": "stream",
     "text": [
      ".\n",
      "['.ipynb_checkpoints']\n",
      "['2_Syntax_part1.ipynb', '3_Syntax_part2.ipynb', '4_Encodings_Files.ipynb', 'test.txt']\n",
      "\n",
      ".\\.ipynb_checkpoints\n",
      "[]\n",
      "['3_Syntax_part2-checkpoint.ipynb', '4_Encodings_Files-checkpoint.ipynb']\n",
      "\n"
     ]
    }
   ],
   "source": [
    "for (dirpath, dirnames, filenames) in os.walk('.'):\n",
    "    print dirpath\n",
    "    print dirnames\n",
    "    print filenames\n",
    "    print ''"
   ]
  },
  {
   "cell_type": "code",
   "execution_count": null,
   "metadata": {
    "collapsed": true
   },
   "outputs": [],
   "source": []
  },
  {
   "cell_type": "code",
   "execution_count": null,
   "metadata": {
    "collapsed": true
   },
   "outputs": [],
   "source": []
  },
  {
   "cell_type": "code",
   "execution_count": 114,
   "metadata": {
    "collapsed": false
   },
   "outputs": [
    {
     "data": {
      "text/plain": [
       "'.\\\\.'"
      ]
     },
     "execution_count": 114,
     "metadata": {},
     "output_type": "execute_result"
    }
   ],
   "source": [
    "os.path.join('.', '.')"
   ]
  },
  {
   "cell_type": "code",
   "execution_count": 115,
   "metadata": {
    "collapsed": false
   },
   "outputs": [
    {
     "data": {
      "text/plain": [
       "'preparing_materials\\\\python intro'"
      ]
     },
     "execution_count": 115,
     "metadata": {},
     "output_type": "execute_result"
    }
   ],
   "source": [
    "os.path.join('preparing_materials', 'python intro')"
   ]
  },
  {
   "cell_type": "code",
   "execution_count": 116,
   "metadata": {
    "collapsed": false
   },
   "outputs": [
    {
     "data": {
      "text/plain": [
       "False"
      ]
     },
     "execution_count": 116,
     "metadata": {},
     "output_type": "execute_result"
    }
   ],
   "source": [
    "os.path.exists(os.path.join('preparing_materials', 'python intro'))"
   ]
  },
  {
   "cell_type": "code",
   "execution_count": 117,
   "metadata": {
    "collapsed": false
   },
   "outputs": [
    {
     "data": {
      "text/plain": [
       "False"
      ]
     },
     "execution_count": 117,
     "metadata": {},
     "output_type": "execute_result"
    }
   ],
   "source": [
    "os.path.exists(os.path.join('preparing_materials', 'something else'))"
   ]
  },
  {
   "cell_type": "code",
   "execution_count": 118,
   "metadata": {
    "collapsed": false
   },
   "outputs": [
    {
     "data": {
      "text/plain": [
       "False"
      ]
     },
     "execution_count": 118,
     "metadata": {},
     "output_type": "execute_result"
    }
   ],
   "source": [
    "os.path.exists('tmp_dir')"
   ]
  },
  {
   "cell_type": "markdown",
   "metadata": {},
   "source": [
    "os.makedirs создаёт все промежуточные папки"
   ]
  },
  {
   "cell_type": "code",
   "execution_count": 119,
   "metadata": {
    "collapsed": true
   },
   "outputs": [],
   "source": [
    "os.makedirs('tmp_dir')"
   ]
  },
  {
   "cell_type": "code",
   "execution_count": 120,
   "metadata": {
    "collapsed": true
   },
   "outputs": [],
   "source": [
    "os.makedirs('yet_another_tmp_dir/yet_another_tmp_dir_inner/yet_another_tmp_dir_inner_inner')"
   ]
  },
  {
   "cell_type": "code",
   "execution_count": 121,
   "metadata": {
    "collapsed": false
   },
   "outputs": [
    {
     "name": "stderr",
     "output_type": "stream",
     "text": [
      "\"ls\" ­Ґ пў«пҐвбп ў­гваҐ­­Ґ© Ё«Ё ў­Ґи­Ґ©\n",
      "Є®¬ ­¤®©, ЁбЇ®«­пҐ¬®© Їа®Ја ¬¬®© Ё«Ё Ї ЄҐв­л¬ д ©«®¬.\n",
      "\"ls\" ­Ґ пў«пҐвбп ў­гваҐ­­Ґ© Ё«Ё ў­Ґи­Ґ©\n",
      "Є®¬ ­¤®©, ЁбЇ®«­пҐ¬®© Їа®Ја ¬¬®© Ё«Ё Ї ЄҐв­л¬ д ©«®¬.\n"
     ]
    }
   ],
   "source": [
    "!ls yet_another_tmp_dir\n",
    "!ls yet_another_tmp_dir/yet_another_tmp_dir_inner/"
   ]
  },
  {
   "cell_type": "code",
   "execution_count": 122,
   "metadata": {
    "collapsed": false
   },
   "outputs": [
    {
     "name": "stderr",
     "output_type": "stream",
     "text": [
      "ЋвЄ § ­® ў ¤®бвгЇҐ.\n",
      "ЋиЁЎЄ  ў бЁ­в ЄбЁбҐ Є®¬ ­¤л.\n"
     ]
    }
   ],
   "source": [
    "!type yet_another_tmp_dir\n",
    "!type yet_another_tmp_dir/yet_another_tmp_dir_inner/"
   ]
  },
  {
   "cell_type": "code",
   "execution_count": 123,
   "metadata": {
    "collapsed": false
   },
   "outputs": [
    {
     "data": {
      "text/plain": [
       "True"
      ]
     },
     "execution_count": 123,
     "metadata": {},
     "output_type": "execute_result"
    }
   ],
   "source": [
    "os.path.exists('tmp_dir')"
   ]
  },
  {
   "cell_type": "code",
   "execution_count": 124,
   "metadata": {
    "collapsed": false
   },
   "outputs": [
    {
     "ename": "WindowsError",
     "evalue": "[Error 183] Невозможно создать файл,: 'tmp_dir'",
     "output_type": "error",
     "traceback": [
      "\u001b[1;31m---------------------------------------------------------------------------\u001b[0m",
      "\u001b[1;31mWindowsError\u001b[0m                              Traceback (most recent call last)",
      "\u001b[1;32m<ipython-input-124-4b877db8ddf8>\u001b[0m in \u001b[0;36m<module>\u001b[1;34m()\u001b[0m\n\u001b[1;32m----> 1\u001b[1;33m \u001b[0mos\u001b[0m\u001b[1;33m.\u001b[0m\u001b[0mmakedirs\u001b[0m\u001b[1;33m(\u001b[0m\u001b[1;34m'tmp_dir'\u001b[0m\u001b[1;33m)\u001b[0m\u001b[1;33m\u001b[0m\u001b[0m\n\u001b[0m",
      "\u001b[1;32mD:\\Programs\\Anaconda2\\envs\\py27\\lib\\os.pyc\u001b[0m in \u001b[0;36mmakedirs\u001b[1;34m(name, mode)\u001b[0m\n\u001b[0;32m    155\u001b[0m         \u001b[1;32mif\u001b[0m \u001b[0mtail\u001b[0m \u001b[1;33m==\u001b[0m \u001b[0mcurdir\u001b[0m\u001b[1;33m:\u001b[0m           \u001b[1;31m# xxx/newdir/. exists if xxx/newdir exists\u001b[0m\u001b[1;33m\u001b[0m\u001b[0m\n\u001b[0;32m    156\u001b[0m             \u001b[1;32mreturn\u001b[0m\u001b[1;33m\u001b[0m\u001b[0m\n\u001b[1;32m--> 157\u001b[1;33m     \u001b[0mmkdir\u001b[0m\u001b[1;33m(\u001b[0m\u001b[0mname\u001b[0m\u001b[1;33m,\u001b[0m \u001b[0mmode\u001b[0m\u001b[1;33m)\u001b[0m\u001b[1;33m\u001b[0m\u001b[0m\n\u001b[0m\u001b[0;32m    158\u001b[0m \u001b[1;33m\u001b[0m\u001b[0m\n\u001b[0;32m    159\u001b[0m \u001b[1;32mdef\u001b[0m \u001b[0mremovedirs\u001b[0m\u001b[1;33m(\u001b[0m\u001b[0mname\u001b[0m\u001b[1;33m)\u001b[0m\u001b[1;33m:\u001b[0m\u001b[1;33m\u001b[0m\u001b[0m\n",
      "\u001b[1;31mWindowsError\u001b[0m: [Error 183] Невозможно создать файл,: 'tmp_dir'"
     ]
    }
   ],
   "source": [
    "os.makedirs('tmp_dir')"
   ]
  },
  {
   "cell_type": "code",
   "execution_count": null,
   "metadata": {
    "collapsed": false
   },
   "outputs": [],
   "source": [
    "!rm -r tmp_dir\n",
    "!rm -r yet_another_tmp_dir"
   ]
  },
  {
   "cell_type": "code",
   "execution_count": 127,
   "metadata": {
    "collapsed": false
   },
   "outputs": [
    {
     "name": "stderr",
     "output_type": "stream",
     "text": [
      "ЌҐ г¤ Ґвбп ­ ©вЁ гЄ § ­­л© д ©«.\n",
      "Џ ЇЄ  ­Ґ Їгбв .\n"
     ]
    }
   ],
   "source": [
    "!rmdir tmp_dir\n",
    "!rmdir yet_another_tmp_dir"
   ]
  },
  {
   "cell_type": "code",
   "execution_count": 128,
   "metadata": {
    "collapsed": false
   },
   "outputs": [
    {
     "data": {
      "text/plain": [
       "True"
      ]
     },
     "execution_count": 128,
     "metadata": {},
     "output_type": "execute_result"
    }
   ],
   "source": [
    "if not os.path.exists('tmp_dir'):\n",
    "    os.makedirs('tmp_dir')\n",
    "    \n",
    "os.path.exists('tmp_dir')"
   ]
  },
  {
   "cell_type": "code",
   "execution_count": null,
   "metadata": {
    "collapsed": true
   },
   "outputs": [],
   "source": [
    "!rm -r tmp_dir"
   ]
  },
  {
   "cell_type": "code",
   "execution_count": 129,
   "metadata": {
    "collapsed": true
   },
   "outputs": [],
   "source": [
    "!rmdir tmp_dir"
   ]
  },
  {
   "cell_type": "markdown",
   "metadata": {},
   "source": [
    "Эти и многие другие функции в модуле os\n",
    "\n",
    "https://docs.python.org/2/library/os.html"
   ]
  },
  {
   "cell_type": "markdown",
   "metadata": {},
   "source": [
    "## Небольшое задание"
   ]
  },
  {
   "cell_type": "markdown",
   "metadata": {},
   "source": [
    "Давайте напишем программу, которая считает частоту всех слов в файле. Словом считаем последовательность латинских букв."
   ]
  },
  {
   "cell_type": "code",
   "execution_count": 153,
   "metadata": {
    "collapsed": true
   },
   "outputs": [],
   "source": [
    "with open('test.txt', 'w') as ff:\n",
    "    ff.write('lol kek lol alex vasya cat\\n')\n",
    "    ff.write('lol kek lol alex ivan top\\n')\n",
    "    ff.write('lol kek lol nut make\\n')\n",
    "    ff.write('lol kek lol nutella\\n')"
   ]
  },
  {
   "cell_type": "code",
   "execution_count": 154,
   "metadata": {
    "collapsed": true
   },
   "outputs": [],
   "source": [
    "from collections import Counter"
   ]
  },
  {
   "cell_type": "code",
   "execution_count": 169,
   "metadata": {
    "collapsed": false
   },
   "outputs": [
    {
     "name": "stdout",
     "output_type": "stream",
     "text": [
      "задание 2\n",
      "символах 4\n",
      "вбп 8\n",
      "Нам 2\n",
      "виде 2\n",
      "работает 2\n",
      "Модуль 2\n",
      "список 3\n",
      "Операции 2\n",
      "рекомендуемый 2\n",
      "абв 2\n",
      "б 12\n",
      "Я 2\n",
      "создать 3\n",
      "сделать 3\n",
      "надо 2\n",
      "вычленить 2\n",
      "кирилица 2\n",
      "описывает 2\n",
      "Не 2\n",
      "Р 7\n",
      "какую 2\n",
      "кодировка 3\n",
      "На 3\n",
      "кодировке 3\n",
      "названием 2\n",
      "просто 4\n",
      "гбва 2\n",
      "Но 5\n",
      "папке 2\n",
      "а 20\n",
      "выхода 2\n",
      "решения 2\n",
      "байт 2\n",
      "очень 3\n",
      "и 20\n",
      "запись 2\n",
      "бв 2\n",
      "последний 2\n",
      "сработает 2\n",
      "рынка 2\n",
      "не 10\n",
      "может 2\n",
      "или 2\n",
      "сладкие 2\n",
      "на 5\n",
      "если 2\n",
      "всегда 3\n",
      "Кодировки 3\n",
      "при 3\n",
      "урожай 2\n",
      "кодировку 4\n",
      "значения 2\n",
      "ситуация 2\n",
      "частоту 2\n",
      "вс 3\n",
      "гарантированно 2\n",
      "приводятся 3\n",
      "латинских 5\n",
      "строк 3\n",
      "поможет 2\n",
      "обратно 2\n",
      "потому 2\n",
      "кирилицы 3\n",
      "числами 2\n",
      "Системные 2\n",
      "точно 2\n",
      "символами 3\n",
      "хорошо 2\n",
      "посмотрим 2\n",
      "строковые 2\n",
      "делить 2\n",
      "проблемы 4\n",
      "считаем 2\n",
      "то 6\n",
      "гбв 2\n",
      "Наш 2\n",
      "определ 2\n",
      "есть 3\n",
      "работы 2\n",
      "папки 2\n",
      "кирилице 2\n",
      "латинскими 2\n",
      "самом 2\n",
      "Отсюда 2\n",
      "Ещ 2\n",
      "предупреждение 2\n",
      "результат 2\n",
      "переводите 2\n",
      "установить 2\n",
      "пример 2\n",
      "проблем 2\n",
      "Для 3\n",
      "записываются 2\n",
      "рублей 5\n",
      "из 5\n",
      "получается 2\n",
      "Есть 2\n",
      "файлов 3\n",
      "считает 2\n",
      "строковая 2\n",
      "г 4\n",
      "будет 2\n",
      "знаем 3\n",
      "дальнейшем 2\n",
      "шаблону 2\n",
      "нужно 5\n",
      "Он 2\n",
      "неправильно 2\n",
      "закрыт 2\n",
      "шаблоны 2\n",
      "л 11\n",
      "этого 2\n",
      "показывает 2\n",
      "Усли 2\n",
      "я 8\n",
      "у 2\n",
      "говорит 2\n",
      "блокнотах 2\n",
      "прочих 2\n",
      "которая 2\n",
      "получим 2\n",
      "блока 2\n",
      "чтобы 3\n",
      "параметра 2\n",
      "воспринимаются 2\n",
      "получить 2\n",
      "именно 2\n",
      "получаются 2\n",
      "яблоки 2\n",
      "например 3\n",
      "параметр 2\n",
      "так 6\n",
      "там 2\n",
      "мало 2\n",
      "Похожая 2\n",
      "одному 2\n",
      "строки 4\n",
      "Невозможно 3\n",
      "мыла 7\n",
      "выводе 2\n",
      "специальная 2\n",
      "переводить 2\n",
      "стоит 3\n",
      "напишем 2\n",
      "При 3\n",
      "оба 2\n",
      "они 2\n",
      "их 2\n",
      "ставить 2\n",
      "выполнить 2\n",
      "некоторые 2\n",
      "все 3\n",
      "симловов 2\n",
      "кодировками 2\n",
      "посредством 2\n",
      "что 4\n",
      "для 3\n",
      "слов 2\n",
      "трудно 2\n",
      "вывод 2\n",
      "кодировки 2\n",
      "начинается 2\n",
      "нет 4\n",
      "Здравствуй 11\n",
      "м 2\n",
      "ов 2\n",
      "переход 2\n",
      "тут 2\n",
      "формату 2\n",
      "ситуации 2\n",
      "умолчанию 6\n",
      "дравствуй 2\n",
      "происходит 2\n",
      "следить 2\n",
      "Документация 2\n",
      "справился 2\n",
      "двух 2\n",
      "было 2\n",
      "мама 7\n",
      "где 3\n",
      "стандартные 2\n",
      "записывают 2\n",
      "содержимое 2\n",
      "перейти 2\n",
      "деле 2\n",
      "в 39\n",
      "можно 4\n",
      "совпадают 3\n",
      "модуле 2\n",
      "многие 3\n",
      "к 3\n",
      "константы 2\n",
      "числа 2\n",
      "декодировании 2\n",
      "помощи 2\n",
      "существуют 2\n",
      "Как 2\n",
      "поэтому 2\n",
      "константа 2\n",
      "д 10\n",
      "написана 2\n",
      "уже 2\n",
      "консоли 2\n",
      "надеятся 2\n",
      "позволяет 2\n",
      "попробуем 2\n",
      "вызова 2\n",
      "воспринималась 2\n",
      "Юникод 2\n",
      "последовательность 4\n",
      "позволяют 2\n",
      "стандартная 2\n",
      "используется 4\n",
      "команду 2\n",
      "Так 3\n",
      "Поэтому 2\n",
      "всех 2\n",
      "команды 3\n",
      "удаляет 2\n",
      "цена 2\n",
      "другие 4\n",
      "указать 3\n",
      "Это 3\n",
      "ценников 2\n",
      "Эти 2\n",
      "Помогает 2\n",
      "Работа 2\n",
      "После 2\n",
      "от 2\n",
      "яА 2\n",
      "ней 2\n",
      "этим 2\n",
      "давайте 2\n",
      "раму 6\n",
      "методы 2\n",
      "рублях 2\n",
      "перед 2\n",
      "искать 2\n",
      "данной 2\n",
      "выводит 2\n",
      "этой 3\n",
      "файлами 5\n",
      "такое 2\n",
      "т 2\n",
      "явно 3\n",
      "текущей 2\n",
      "который 2\n",
      "файл 7\n",
      "которые 3\n",
      "общем 2\n",
      "условиях 2\n",
      "С 10\n",
      "По 4\n",
      "строчка 29\n",
      "букв 2\n",
      "сначала 2\n",
      "модуля 2\n",
      "модуль 2\n",
      "операции 3\n",
      "определяет 2\n",
      "гва 7\n",
      "е 2\n",
      "Пример 2\n",
      "Небольшое 2\n",
      "Давайте 2\n",
      "делать 2\n",
      "равные 2\n",
      "Словом 2\n",
      "с 10\n",
      "по 6\n",
      "но 4\n",
      "запускать 2\n",
      "Существует 2\n",
      "Данные 2\n",
      "остальных 2\n",
      "равных 2\n",
      "библиотека 3\n",
      "ними 2\n",
      "строчку 2\n",
      "программу 2\n",
      "это 3\n",
      "тексты 2\n",
      "разделить 2\n",
      "нные 2\n",
      "быть 2\n",
      "за 2\n",
      "текста 2\n",
      "тексте 2\n",
      "способ 2\n",
      "предварительно 2\n",
      "файла 2\n",
      "переводятся 2\n",
      "как 7\n",
      "файле 2\n",
      "шево 2\n",
      "мир 12\n",
      "созда 2\n",
      "п 19\n",
      "записана 2\n",
      "функции 2\n",
      "бвг 2\n",
      "символов 3\n",
      "промежуточные 2\n",
      "мы 4\n"
     ]
    }
   ],
   "source": [
    "for a, b in Counter(re.findall(u'[а-яА-Я]+', open('4_Encodings_Files.ipynb', 'r').read().decode('utf-8'))).iteritems():\n",
    "    print a, b\n"
   ]
  },
  {
   "cell_type": "code",
   "execution_count": null,
   "metadata": {
    "collapsed": true
   },
   "outputs": [],
   "source": []
  },
  {
   "cell_type": "code",
   "execution_count": null,
   "metadata": {
    "collapsed": true
   },
   "outputs": [],
   "source": []
  },
  {
   "cell_type": "code",
   "execution_count": null,
   "metadata": {
    "collapsed": true
   },
   "outputs": [],
   "source": []
  },
  {
   "cell_type": "code",
   "execution_count": null,
   "metadata": {
    "collapsed": true
   },
   "outputs": [],
   "source": []
  },
  {
   "cell_type": "code",
   "execution_count": null,
   "metadata": {
    "collapsed": true
   },
   "outputs": [],
   "source": []
  },
  {
   "cell_type": "code",
   "execution_count": null,
   "metadata": {
    "collapsed": true
   },
   "outputs": [],
   "source": []
  },
  {
   "cell_type": "code",
   "execution_count": null,
   "metadata": {
    "collapsed": true
   },
   "outputs": [],
   "source": []
  },
  {
   "cell_type": "code",
   "execution_count": null,
   "metadata": {
    "collapsed": true
   },
   "outputs": [],
   "source": []
  },
  {
   "cell_type": "code",
   "execution_count": null,
   "metadata": {
    "collapsed": true
   },
   "outputs": [],
   "source": []
  },
  {
   "cell_type": "code",
   "execution_count": null,
   "metadata": {
    "collapsed": false
   },
   "outputs": [],
   "source": [
    "import re\n",
    "from collections import Counter\n",
    "\n",
    "\n",
    "cnt = Counter()\n",
    "with open('4_Encodings_Files.ipynb', 'r') as f:\n",
    "    for line in f:\n",
    "        cnt.update(re.findall('[a-zA-Z]+', line))"
   ]
  },
  {
   "cell_type": "code",
   "execution_count": null,
   "metadata": {
    "collapsed": false
   },
   "outputs": [],
   "source": [
    "cnt"
   ]
  },
  {
   "cell_type": "code",
   "execution_count": null,
   "metadata": {
    "collapsed": false
   },
   "outputs": [],
   "source": [
    "cnt.most_common(10)"
   ]
  },
  {
   "cell_type": "code",
   "execution_count": null,
   "metadata": {
    "collapsed": true
   },
   "outputs": [],
   "source": []
  }
 ],
 "metadata": {
  "anaconda-cloud": {},
  "kernelspec": {
   "display_name": "Python 2",
   "language": "python",
   "name": "python2"
  },
  "language_info": {
   "codemirror_mode": {
    "name": "ipython",
    "version": 2
   },
   "file_extension": ".py",
   "mimetype": "text/x-python",
   "name": "python",
   "nbconvert_exporter": "python",
   "pygments_lexer": "ipython2",
   "version": "2.7.13"
  }
 },
 "nbformat": 4,
 "nbformat_minor": 2
}
